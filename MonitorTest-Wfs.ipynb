{
 "cells": [
  {
   "cell_type": "code",
   "execution_count": 1,
   "metadata": {
    "collapsed": true
   },
   "outputs": [],
   "source": [
    "%load_ext autoreload\n",
    "%autoreload 2"
   ]
  },
  {
   "cell_type": "code",
   "execution_count": 2,
   "metadata": {},
   "outputs": [
    {
     "name": "stdout",
     "output_type": "stream",
     "text": [
      "Running on  Wed Feb 21 12:41:44 2018\n"
     ]
    }
   ],
   "source": [
    "import glob\n",
    "import time\n",
    "print(\"Running on \", time.asctime())\n",
    "\n",
    "import numpy             as np\n",
    "import tables            as tb\n",
    "import matplotlib.pyplot as plt\n",
    "\n",
    "from invisible_cities.io.pmaps_io      import load_pmaps\n",
    "from invisible_cities.icaro.hst_functions    import shift_to_bin_centers\n",
    "from invisible_cities.core.core_functions import weighted_mean_and_std\n",
    "from invisible_cities.reco.tbl_functions import get_rwf_vectors\n",
    "\n",
    "from collections import defaultdict"
   ]
  },
  {
   "cell_type": "code",
   "execution_count": 3,
   "metadata": {
    "collapsed": true
   },
   "outputs": [],
   "source": [
    "%matplotlib inline\n",
    "\n",
    "np.warnings.filterwarnings('ignore')\n",
    "\n",
    "plt.rcParams[\"figure.figsize\"]          = 8, 6\n",
    "plt.rcParams[\"font.size\"]               = 15\n",
    "\n",
    "profOpt = \"--k\"\n",
    "fitOpt  = \"r\""
   ]
  },
  {
   "cell_type": "markdown",
   "metadata": {},
   "source": [
    "### List of files"
   ]
  },
  {
   "cell_type": "code",
   "execution_count": 4,
   "metadata": {
    "collapsed": true
   },
   "outputs": [],
   "source": [
    "files = glob.glob(\"/Users/ansimez/Documents/InvCit/hdf5/diffusion/waves/kr_rwf_*_0_7bar_NEXT_v1_00_05_v0.9.2_20171011_krmc_diomira.h5\")\n",
    "\n",
    "run = 4767"
   ]
  },
  {
   "cell_type": "markdown",
   "metadata": {},
   "source": [
    "### Declare range and binnings"
   ]
  },
  {
   "cell_type": "code",
   "execution_count": 5,
   "metadata": {
    "collapsed": true,
    "scrolled": true
   },
   "outputs": [],
   "source": [
    "n_baseline = 48000\n",
    "\n",
    "SBins = {'PMT_Baseline'     : [ np.linspace( 2300.,      2700.,   400 + 1) ],\n",
    "         'PMT_BaselineRMS'  : [ np.linspace(    0.,        10.,   100 + 1) ],\n",
    "         'SiPM_Baseline'    : [ np.linspace(    0.,       100.,   100 + 1) ],         \n",
    "         'SiPM_BaselineRMS' : [ np.linspace(    0.,        10.,   100 + 1) ]}\n",
    "\n",
    "SLabels = {'PMT_Baseline'     : [\"ADCs\"],\n",
    "           'PMT_BaselineRMS'  : [\"ADCs\"],\n",
    "           'SiPM_Baseline'    : [\"ADCs\"],\n",
    "           'SiPM_BaselineRMS' : [\"ADCs\"]}"
   ]
  },
  {
   "cell_type": "markdown",
   "metadata": {},
   "source": [
    "### Writer declaration"
   ]
  },
  {
   "cell_type": "code",
   "execution_count": 6,
   "metadata": {
    "collapsed": true
   },
   "outputs": [],
   "source": [
    "def hist_writer_var(file, *, compression = 'ZLIB4'):\n",
    "    \n",
    "    def write_hist(group_name  : 'options: HIST, HIST2D',\n",
    "                   table_name  : 'histogram name',\n",
    "                   entries     : 'np.array with bin content',\n",
    "                   bins        : 'list of np.array of bins',\n",
    "                   out_of_range: 'np.array lenght=2 with events out of range',\n",
    "                   errors      : 'np.array with bins uncertainties',\n",
    "                   labels      : 'list with labels of the histogram'):\n",
    "        \n",
    "        try:                       hist_group = getattr          (file.root, group_name)\n",
    "        except tb.NoSuchNodeError: hist_group = file.create_group(file.root, group_name)\n",
    "\n",
    "        if table_name in hist_group:\n",
    "            raise ValueError(\"Histogram {} already exists\".format(table_name))\n",
    "            \n",
    "        file.create_array(hist_group, table_name, entries)\n",
    "        vlarray = file.create_vlarray(hist_group, table_name + '_bins', atom=tb.Float64Atom(shape=()))\n",
    "        for ibin in bins:\n",
    "            vlarray.append(np.array(ibin))\n",
    "        file.create_array(hist_group, table_name + '_outRange', out_of_range)\n",
    "        file.create_array(hist_group, table_name + '_errors', errors)\n",
    "        file.create_array(hist_group, table_name + '_labels', labels)\n",
    "                    \n",
    "    return write_hist"
   ]
  },
  {
   "cell_type": "markdown",
   "metadata": {},
   "source": [
    "### Monitoring class declaration"
   ]
  },
  {
   "cell_type": "code",
   "execution_count": 7,
   "metadata": {
    "collapsed": true
   },
   "outputs": [],
   "source": [
    "class MonParam:\n",
    "    def __init__(self, bins, values=None):\n",
    "        \"\"\"\n",
    "        This class is a parameter holder that contains data grouped by bins.\n",
    "        \n",
    "        Attributes:\n",
    "    \n",
    "        bins     = Dictionary with the histogram binning. \n",
    "                   Keys refer to each parameter being saved, values are arrays.\n",
    "        data     = Dictionary with the accumulated counts on each bin. \n",
    "                   Keys refer to each parameter being saved, values are arrays.\n",
    "        outRange = Dictionary with the accumulated counts out of the bin range. \n",
    "                   Keys refer to each parameter being saved, values are n-dim arrays\n",
    "                   of lenght 2 (first element is underflow, second oveflow).\n",
    "        errors   = Dictionary with the assigned uncertanties to each bin. \n",
    "                   Keys refer to each parameter being saved, values are arrays.\n",
    "    \n",
    "        Arguments:\n",
    "    \n",
    "        bins   = Dictionary with the histogram binning. \n",
    "                 Keys refer to each parameter being saved, values are arrays.\n",
    "        values = Dictionary of arrays with initial values, optional. \n",
    "                 If not passed, then the initial bin content is set to zero.\n",
    "        \"\"\"\n",
    "        self.bins = bins\n",
    "                \n",
    "        self.data = self.init_from_bins()\n",
    "        self.outRange = {k: np.zeros((2,) * len(v)) for k, v in bins.items()}\n",
    "        self.errors = self.init_from_bins()\n",
    "        if values:\n",
    "            self.Add(values)    \n",
    "\n",
    "    def init_from_bins(self):\n",
    "        return {k: np.zeros(shape=[len(x) - 1 for x in v]) for k, v in self.bins.items()}\n",
    "\n",
    "    def add(self, additive):\n",
    "        \"\"\"\n",
    "        Given a dictionary holding data (keys are parameters, values is \n",
    "        a list with the parameter values), bins it and adds it to the \n",
    "        stored bin content.\n",
    "        \n",
    "        additive = Dictionary holding the data to fill the histogram.\n",
    "        \"\"\"\n",
    "        for attribute, value in additive.items():\n",
    "            binnedData, outRange      = self.bin_data(np.asarray(value), self.bins[attribute])\n",
    "            self.data[attribute]     += binnedData\n",
    "            self.outRange[attribute] += outRange\n",
    "            self.update_errors() #Not sure if we want to update automatically as it would overlap previous setted errors\n",
    "            \n",
    "    def bin_data(self, data, histbins): \n",
    "        \"\"\"\n",
    "        Bins the given data and computes the events out of range.\n",
    "        \"\"\"\n",
    "        binned_data = np.histogramdd(data.T, histbins)[0]        \n",
    "        if len(histbins) == 1:\n",
    "            out_of_range = [len(data[data < histbins[0][0]]), len(data[data > histbins[0][-1]])]\n",
    "        else:\n",
    "            out_of_range = [[len(data[i][data[i] < bins[0]]), len(data[i][data[i] > bins[-1]])] for i, bins in enumerate(histbins)]\n",
    "\n",
    "        return binned_data, out_of_range\n",
    "    \n",
    "    def update_errors(self, errors=None):\n",
    "        \"\"\"\n",
    "        Updates the errors with the passed dictionary. If nothing is passed, then the \n",
    "        square root of the counts is computed and assigned as error.\n",
    "        \"\"\"        \n",
    "        if errors:\n",
    "            self.errors = errors\n",
    "        else:\n",
    "            self.errors = {k: np.sqrt(v) for k, v in self.data.items()} "
   ]
  },
  {
   "cell_type": "markdown",
   "metadata": {},
   "source": [
    "### Monitoring functions declaration"
   ]
  },
  {
   "cell_type": "code",
   "execution_count": 8,
   "metadata": {
    "collapsed": true
   },
   "outputs": [],
   "source": [
    "def add_histofiles(histofiles, sum_file):\n",
    "    \"\"\"\n",
    "    Sums the histograms a given list of histogram files.\n",
    "    \n",
    "    histofiles = List of strings with the filenames to be summed.\n",
    "    sum_file   = String with the name of the file containing the histograms sum.\n",
    "    \"\"\"\n",
    "    \n",
    "    if len(histofiles)<1:\n",
    "        raise ValueError(\"List of files is empty\")    \n",
    "\n",
    "    with tb.open_file(histofiles[0], \"r\") as h5in:\n",
    "        h5in.copy_file(sum_file,overwrite=True)\n",
    "        \n",
    "    if len(histofiles)>1:\n",
    "        with tb.open_file(sum_file, \"r+\") as sum_out:\n",
    "            \n",
    "            for file in histofiles[1:]:\n",
    "                with tb.open_file(file, \"r\") as h5in:\n",
    "                    name_sel = lambda x: ('bins' not in x) and ('labels' not in x)\n",
    "                    for name in filter(name_sel, list(sum_out.root.HIST._v_children)):\n",
    "                        accumulated = getattr(sum_out.root.HIST, name)\n",
    "                        additive    = getattr(h5in.root.HIST, name)\n",
    "                        if 'errors' in name:\n",
    "                            accumulated[:] = np.sqrt(accumulated[:] ** 2 + additive[:] ** 2)\n",
    "                        else:\n",
    "                            accumulated[:] = np.asarray(accumulated[:])  + np.asarray(additive[:])"
   ]
  },
  {
   "cell_type": "code",
   "execution_count": 9,
   "metadata": {
    "collapsed": true
   },
   "outputs": [],
   "source": [
    "def plot_from_file(histofile, histonames = 'all', plot_errors = False, save_pdf = [False, 'path']):\n",
    "    \"\"\"\n",
    "    Plots the histograms of a given histogram file in a 3 column plot grid.\n",
    "    \n",
    "    histofile   = File containing the histograms.\n",
    "    histonames  = List with histogram name to be plotted, if 'all', all histograms are plotted.\n",
    "    plot_errors = Boolean. If true, plot the associated errors instead of the data.\n",
    "    save_pdf    = Length 2 list, first element is a boolean. If true, saves the histograms\n",
    "                  separately in pdf on the path passed as second element of the list.\n",
    "    \"\"\"    \n",
    "    with tb.open_file(histofile, \"r\") as h5in:    \n",
    "\n",
    "        if histonames == 'all':\n",
    "            all_histos = list(h5in.root.HIST._v_children)\n",
    "            histo_sel  = lambda x: ('bins' not in x) and ('labels' not in x) and ('errors' not in x) and ('outRange' not in x)\n",
    "            histonames = list(filter(histo_sel, all_histos))\n",
    "            \n",
    "        nhistos = len(histonames)                \n",
    "\n",
    "        if nhistos > 3:\n",
    "            n_row = 3\n",
    "        else: \n",
    "            n_row = nhistos\n",
    "        \n",
    "        nrows = nhistos // n_row\n",
    "        if nhistos % n_row > 0:\n",
    "            nrows +=1\n",
    "            \n",
    "        fig, axes = plt.subplots(nrows, n_row, figsize=(8 * n_row, 6 * nrows))\n",
    "                \n",
    "        for i, histoname in enumerate(histonames):\n",
    "            bins      = getattr(h5in.root.HIST, histoname + '_bins')\n",
    "            out_range = getattr(h5in.root.HIST, histoname + '_outRange')\n",
    "            labels    = getattr(h5in.root.HIST, histoname + '_labels')\n",
    "            labels    = [str(lab)[2:-1].replace('\\\\\\\\', '\\\\') for lab in labels]\n",
    "            \n",
    "            if plot_errors:\n",
    "                entries = np.array(getattr(h5in.root.HIST, histoname + '_errors'))\n",
    "            else:\n",
    "                entries = np.array(getattr(h5in.root.HIST, histoname))\n",
    "\n",
    "            if nhistos == 1:\n",
    "                ax = axes\n",
    "            elif nrows == 1:\n",
    "                ax = axes[i % n_row]\n",
    "            else:\n",
    "                ax = axes[i // n_row][i % n_row]\n",
    "                \n",
    "            if len(bins) == 1:\n",
    "                ax.bar(shift_to_bin_centers(bins[0]), entries, width=np.diff(bins[0]))\n",
    "                ax.set_ylabel(\"Entries\")\n",
    "\n",
    "                out_range_string = 'Out range (%) = [{0:.2f}, {1:.2f}]'.format(100 * out_range[0] / np.sum(entries),\n",
    "                                                                               100 * out_range[1] / np.sum(entries))\n",
    "                mean = weighted_mean_and_std(shift_to_bin_centers(bins[0]), entries)\n",
    "                ax.annotate('Mean = {0:.2f}\\n'.format(mean[0]) +\n",
    "                            'RMS = {0:.2f}\\n' .format(mean[1]) +\n",
    "                            out_range_string,\n",
    "                            xy=(0.99, 0.99), xycoords='axes fraction',\n",
    "                            fontsize=11,\n",
    "                            horizontalalignment='right', verticalalignment='top') \n",
    "                \n",
    "            elif len(bins) == 2:            \n",
    "                ax.pcolormesh(bins[0], bins[1], entries.T)\n",
    "                ax.set_ylabel(labels[1])\n",
    "\n",
    "                out_range_stringX = 'Out range X (%) = [{0:.2f}, {1:.2f}]'.format(100 * out_range[0][0] / np.sum(entries),\n",
    "                                                                                  100 * out_range[0][1] / np.sum(entries))\n",
    "                out_range_stringY = 'Out range Y (%) = [{0:.2f}, {1:.2f}]'.format(100 * out_range[1][0] / np.sum(entries),\n",
    "                                                                                  100 * out_range[1][1] / np.sum(entries))\n",
    "                meanX = weighted_mean_and_std(shift_to_bin_centers(bins[0]), np.sum(entries, axis = 1)) \n",
    "                meanY = weighted_mean_and_std(shift_to_bin_centers(bins[1]), np.sum(entries, axis = 0))\n",
    "                ax.annotate('Mean X = {0:.2f}\\n'.format(meanX[0]) +\n",
    "                            'Mean Y = {0:.2f}\\n'.format(meanY[0]) +\n",
    "                            'RMS X = {0:.2f}\\n' .format(meanX[1]) +\n",
    "                            'RMS Y = {0:.2f}\\n' .format(meanY[1]) +\n",
    "                            out_range_stringX + '\\n' + out_range_stringY,\n",
    "                            xy=(0.99, 0.99), xycoords='axes fraction',\n",
    "                            fontsize=11, color='white',\n",
    "                            horizontalalignment='right', verticalalignment='top') \n",
    "\n",
    "                \n",
    "            ax.set_xlabel(labels[0])\n",
    "            ax.set_title(histoname)\n",
    "            \n",
    "        fig.tight_layout()\n",
    "        \n",
    "        if save_pdf[0]:\n",
    "            for i, histoname in enumerate(histonames):            \n",
    "                if nhistos == 1:\n",
    "                    ax = axes\n",
    "                if nrows == 1:\n",
    "                    ax = axes[i % n_row]\n",
    "                else:\n",
    "                    ax = axes[i // n_row][i % n_row]                \n",
    "                extent = ax.get_tightbbox(fig.canvas.get_renderer()).transformed(fig.dpi_scale_trans.inverted())\n",
    "                fig.savefig(save_pdf[1] + histoname + '.png', bbox_inches=extent)\n"
   ]
  },
  {
   "cell_type": "markdown",
   "metadata": {},
   "source": [
    "### Fill information (pmaps specific)"
   ]
  },
  {
   "cell_type": "code",
   "execution_count": 10,
   "metadata": {
    "collapsed": true
   },
   "outputs": [],
   "source": [
    "def fill_baseline (SVar, wfs, sensor_type):\n",
    "    bls = np.mean(wfs, axis=1)[:, np.newaxis]\n",
    "    rms = np.std (wfs, axis=1)[:, np.newaxis]\n",
    "    SVar[sensor_type + '_Baseline']   .extend(bls.flatten())\n",
    "    SVar[sensor_type + '_BaselineRMS'].extend(rms.flatten())                        "
   ]
  },
  {
   "cell_type": "markdown",
   "metadata": {},
   "source": [
    "### File and event loop"
   ]
  },
  {
   "cell_type": "code",
   "execution_count": 11,
   "metadata": {
    "scrolled": true
   },
   "outputs": [],
   "source": [
    "output = \"/Users/ansimez/Documents/InvCit/hdf5/histos_waveforms.h5\"\n",
    "\n",
    "SMon = MonParam(SBins)\n",
    "\n",
    "for file in files[:]:\n",
    "    with tb.open_file(file, \"r\") as h5in:\n",
    "        SVar = defaultdict(list)\n",
    "\n",
    "        nevt, pmtrwf, sipmrwf, _ = get_rwf_vectors(h5in)        \n",
    "        for evt in range(nevt-9000):\n",
    "            fill_baseline(SVar,  pmtrwf[evt][:,0:n_baseline],  \"PMT\")\n",
    "            fill_baseline(SVar, sipmrwf[evt][:,0:n_baseline], \"SiPM\")\n",
    "    \n",
    "    SMon.add(SVar)\n",
    "\n",
    "with tb.open_file(output, \"w\") as h5out:\n",
    "    writer = hist_writer_var(h5out)    \n",
    "    for param_name, bins in SMon.bins.items():    \n",
    "        writer('HIST', param_name, SMon.data[param_name], bins, SMon.outRange[param_name],\n",
    "               SMon.errors[param_name], SLabels[param_name])"
   ]
  },
  {
   "cell_type": "code",
   "execution_count": 13,
   "metadata": {
    "scrolled": false
   },
   "outputs": [
    {
     "data": {
      "image/png": "[encoded data removed]",
      "text/plain": [
       "<matplotlib.figure.Figure at 0x117d62ef0>"
      ]
     },
     "metadata": {},
     "output_type": "display_data"
    }
   ],
   "source": [
    "histofile = \"/Users/ansimez/Documents/InvCit/hdf5/histos_waveforms.h5\"\n",
    "plot_from_file(histofile)"
   ]
  },
  {
   "cell_type": "code",
   "execution_count": null,
   "metadata": {
    "collapsed": true
   },
   "outputs": [],
   "source": []
  }
 ],
 "metadata": {
  "kernelspec": {
   "display_name": "Python 3",
   "language": "python",
   "name": "python3"
  },
  "language_info": {
   "codemirror_mode": {
    "name": "ipython",
    "version": 3
   },
   "file_extension": ".py",
   "mimetype": "text/x-python",
   "name": "python",
   "nbconvert_exporter": "python",
   "pygments_lexer": "ipython3",
   "version": "3.6.2"
  }
 },
 "nbformat": 4,
 "nbformat_minor": 2
}
