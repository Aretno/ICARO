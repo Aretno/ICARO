{
 "cells": [
  {
   "cell_type": "code",
   "execution_count": 1,
   "metadata": {
    "collapsed": true
   },
   "outputs": [],
   "source": [
    "%load_ext autoreload\n",
    "%autoreload 2"
   ]
  },
  {
   "cell_type": "code",
   "execution_count": 1,
   "metadata": {},
   "outputs": [
    {
     "name": "stdout",
     "output_type": "stream",
     "text": [
      "Running on  Wed Feb 14 21:27:46 2018\n"
     ]
    }
   ],
   "source": [
    "import glob\n",
    "import os\n",
    "import functools\n",
    "import itertools\n",
    "import time\n",
    "print(\"Running on \", time.asctime())\n",
    "\n",
    "import numpy             as np\n",
    "import scipy             as sci\n",
    "import tables            as tb\n",
    "import matplotlib.pyplot as plt\n",
    "import math as math\n",
    "import pandas as pd\n",
    "\n",
    "import invisible_cities.io.hist_io as histio\n",
    "\n",
    "from invisible_cities.io.pmaps_io      import load_pmaps\n",
    "from invisible_cities.icaro.hst_functions    import shift_to_bin_centers\n",
    "import icaro.core.pmaps_monitor_functions as monFun\n",
    "from collections import defaultdict\n",
    "\n"
   ]
  },
  {
   "cell_type": "code",
   "execution_count": 2,
   "metadata": {
    "collapsed": true
   },
   "outputs": [],
   "source": [
    "%matplotlib inline\n",
    "\n",
    "np.warnings.filterwarnings('ignore')\n",
    "\n",
    "plt.rcParams[\"figure.figsize\"]          = 8, 6\n",
    "plt.rcParams[\"font.size\"]               = 15\n",
    "plt.rcParams[\"figure.max_open_warning\"] = 100\n",
    "\n",
    "profOpt = \"--k\"\n",
    "fitOpt  = \"r\""
   ]
  },
  {
   "cell_type": "code",
   "execution_count": 3,
   "metadata": {},
   "outputs": [
    {
     "data": {
      "text/plain": [
       "\"S2Var = {}\\nS2Var['Event'] = []\\nS2Var['Number'] = []\\nS2Var['Width'] = []\\nS2Var['Height'] = []\\nS2Var['Energy'] = []\\nS2Var['Time'] = []\\nS2Var['Timestamp'] = []\\nS2Var['OneS1'] = []\\n\\nS2SiVar = {}\\nS2SiVar['Event'] = []\\nS2SiVar['Number'] = []\\nS2SiVar['Charge'] = []\\nS2SiVar['SiPM_MaxQ'] = []\\nS2SiVar['SiPM_Number'] = []\\nS2SiVar['SiPM_ID'] = []\\nS2SiVar['SiPM_Q'] = []\\nS2SiVar['SiPM_Timestamp'] = []\\nS2SiVar['Timestamp'] = []\\n\\nRatioVar = {}\\nRatioVar['S2eS1e'] = []\\nRatioVar['S2S1t'] = []\\nRatioVar['S2SiqS2e'] = []\\n\\ntimestampEvent = []\""
      ]
     },
     "execution_count": 3,
     "metadata": {},
     "output_type": "execute_result"
    }
   ],
   "source": [
    "rangeS1 = {'S1_Number': [0, 10, 10], 'S1_Width': [0, 1000, 40], 'S1_Height': [0, 10, 10], 'S1_Energy': [0, 50, 50],\\\n",
    "           'S1_Charge': [0, 20, 20], 'S1_Time': [0, 1300, 1300]} #Bin limits and number of bins\n",
    "S1Bins = {attrName: [np.arange(attrVal[0], attrVal[1] + (attrVal[1]-attrVal[0]) / attrVal[2], (attrVal[1]-attrVal[0]) / attrVal[2]).tolist()]\\\n",
    "                        for attrName, attrVal in rangeS1.items()}\n",
    "\n",
    "exception = ['S1_Energy', 'S1_Number']\n",
    "for param in sorted(set(S1Bins.keys()).difference(exception)):\n",
    "    S1Bins['S1_Energy_'+param] = [S1Bins['S1_Energy'][0], S1Bins[param][0]]\n",
    "\n",
    "\n",
    "\n",
    "'''S2Var = {}\n",
    "S2Var['Event'] = []\n",
    "S2Var['Number'] = []\n",
    "S2Var['Width'] = []\n",
    "S2Var['Height'] = []\n",
    "S2Var['Energy'] = []\n",
    "S2Var['Time'] = []\n",
    "S2Var['Timestamp'] = []\n",
    "S2Var['OneS1'] = []\n",
    "\n",
    "S2SiVar = {}\n",
    "S2SiVar['Event'] = []\n",
    "S2SiVar['Number'] = []\n",
    "S2SiVar['Charge'] = []\n",
    "S2SiVar['SiPM_MaxQ'] = []\n",
    "S2SiVar['SiPM_Number'] = []\n",
    "S2SiVar['SiPM_ID'] = []\n",
    "S2SiVar['SiPM_Q'] = []\n",
    "S2SiVar['SiPM_Timestamp'] = []\n",
    "S2SiVar['Timestamp'] = []\n",
    "\n",
    "RatioVar = {}\n",
    "RatioVar['S2eS1e'] = []\n",
    "RatioVar['S2S1t'] = []\n",
    "RatioVar['S2SiqS2e'] = []\n",
    "\n",
    "timestampEvent = []'''"
   ]
  },
  {
   "cell_type": "code",
   "execution_count": 4,
   "metadata": {},
   "outputs": [],
   "source": [
    "def hist_writer_var(file, *, compression = 'ZLIB4'):\n",
    "    \n",
    "    def write_hist(group_name  : 'options: HIST, HIST2D',\n",
    "                   table_name  : 'histogram name',\n",
    "                   entries     : 'np.array with bin content',\n",
    "                   bins        : 'np.array of bins',\n",
    "                   out_of_range: 'np.array lenght=2 with events out of range',\n",
    "                   errors      : 'np.array with bins uncertainties'):\n",
    "        \n",
    "        try:                       hist_group = getattr          (file.root, group_name)\n",
    "        except tb.NoSuchNodeError: hist_group = file.create_group(file.root, group_name)\n",
    "\n",
    "        try:\n",
    "            hist_table = getattr(hist_group, table_name)\n",
    "        except tb.NoSuchNodeError:\n",
    "            file.create_array(hist_group, table_name, entries)\n",
    "#            file.create_vlarray(hist_group, table_name+'_bins', obj=bins)\n",
    "            vlarray = file.create_vlarray(hist_group, table_name+'_bins', atom=tb.Float64Atom(shape=()))\n",
    "            for ibin in bins:\n",
    "#                print(ibin)\n",
    "                vlarray.append(np.array(ibin))\n",
    "            file.create_array(hist_group, table_name+'_outRange', out_of_range)\n",
    "            file.create_array(hist_group, table_name+'_errors', errors)\n",
    "                    \n",
    "    return write_hist"
   ]
  },
  {
   "cell_type": "code",
   "execution_count": 5,
   "metadata": {},
   "outputs": [],
   "source": [
    "class MonParam:\n",
    "    def __init__(self, bins, values=None):\n",
    "        \"\"\"\n",
    "        This class is a parameter holder that contains data grouped by bins.\n",
    "        \n",
    "        Attributes:\n",
    "    \n",
    "        bins     = Dictionary with the histogram binning. \n",
    "                   Keys refer to each parameter being saved, values are arrays.\n",
    "        data     = Dictionary with the accumulated counts on each bin. \n",
    "                   Keys refer to each parameter being saved, values are arrays.\n",
    "        outRange = Dictionary with the accumulated counts out of the bin range. \n",
    "                   Keys refer to each parameter being saved, values are n-dim arrays of lenght 2 (first element is\n",
    "                   underflow, second oveflow).\n",
    "        errors   = Dictionary with the assigned uncertanties to each bin. \n",
    "                   Keys refer to each parameter being saved, values are arrays.\n",
    "    \n",
    "        Arguments:\n",
    "    \n",
    "        bins   = Dictionary with the histogram binning. \n",
    "                 Keys refer to each parameter being saved, values are arrays.\n",
    "        values = Dictionary of arrays with initial values, optional. \n",
    "                 If not passed, then the initial bin content is set to zero.\n",
    "        \"\"\"\n",
    "        self.bins = bins\n",
    "                \n",
    "        self.data = {k: np.zeros(shape=[len(x)-1 for x in v]) for k, v in bins.items()}\n",
    "        self.outRange = {k: np.zeros((2,)*len(v)) for k, v in bins.items()}\n",
    "        self.errors = {k: np.zeros(shape=[len(x)-1 for x in v]) for k, v in bins.items()}\n",
    "        if values:\n",
    "            self.Add(values)       \n",
    "\n",
    "    def Add(self, additive):\n",
    "        \"\"\"\n",
    "        Given a dictionary holding data (keys are parameters, values is a list with the parameter values),\n",
    "        bins it and adds it to the stored bin content.\n",
    "        \n",
    "        additive = Dictionary holding the data to fill the histogram.\n",
    "        \"\"\"\n",
    "        for attribute, value in additive.items():\n",
    "            binnedData, outRange = self.bin_data(np.asarray(value), self.bins[attribute])\n",
    "            self.data[attribute] += binnedData\n",
    "            self.outRange[attribute] += outRange\n",
    "            self.update_errors() #Not sure if we want to update automatically as it would overlap previous setted errors\n",
    "            \n",
    "    def bin_data(self, data, histbins): \n",
    "        \"\"\"\n",
    "        Bins the given data and computes the events out of range.\n",
    "        \"\"\"\n",
    "        binned_data = np.histogramdd(data, histbins)[0]\n",
    "        out_of_range = [[len(data[i][data[i]<bins[0]]), len(data[i][data[i]>bins[-1]])] for i, bins in enumerate(histbins)]\n",
    "        if len(histbins) == 1:\n",
    "            out_of_range = out_of_range[0]\n",
    "        return binned_data, out_of_range\n",
    "    \n",
    "    def update_errors(self, errors=None):\n",
    "        \"\"\"\n",
    "        Updates the errors with the passed dictionary. If nothing is passed, then the \n",
    "        square root of the counts is computed and assigned as error.\n",
    "        \"\"\"        \n",
    "        if errors:\n",
    "            self.errors = errors\n",
    "        else:\n",
    "            self.errors = {k: np.sqrt(v) for k, v in self.data.items()}"
   ]
  },
  {
   "cell_type": "code",
   "execution_count": 6,
   "metadata": {
    "collapsed": true
   },
   "outputs": [],
   "source": [
    "def fillSvar (speaks, SVar, ptype):\n",
    "    SVar[ptype + '_Number'].append(len(speaks))\n",
    "    for speak in speaks:\n",
    "        SVar[ptype + '_Width'] .append(speak.width)\n",
    "        SVar[ptype + '_Height'].append(speak.height)\n",
    "        SVar[ptype + '_Energy'].append(speak.total_energy)\n",
    "        SVar[ptype + '_Charge'].append(speak.total_charge)\n",
    "        SVar[ptype + '_Time']  .append(speak.time_at_max_energy)"
   ]
  },
  {
   "cell_type": "code",
   "execution_count": 7,
   "metadata": {},
   "outputs": [],
   "source": [
    "def fill2D (SVar, ptype):\n",
    "    SVar[ptype+'_Energy_'+ptype+'_Width'] = np.array([SVar[ptype+'_Energy'], SVar[ptype+'_Width']]).T"
   ]
  },
  {
   "cell_type": "code",
   "execution_count": 8,
   "metadata": {
    "scrolled": false
   },
   "outputs": [],
   "source": [
    "output = \"/Users/ansimez/Documents/InvCit/hdf5/histos1_pmaps_001_4670_v0.9.3_20171128_double_kr1300.h5\"\n",
    "files = glob.glob(\"/Users/ansimez/Documents/InvCit/hdf5/diffusion/4670/pmaps_00*_4670_v0.9.3_20171128_double_kr1300.h5\")\n",
    "\n",
    "SMon = MonParam(S1Bins)\n",
    "\n",
    "for file in files[:1]:\n",
    "    pmaps = load_pmaps(file)\n",
    "    SVar = defaultdict(list)\n",
    "    for i in pmaps:\n",
    "        fillSvar(pmaps[i].s1s, SVar, 'S1')\n",
    "    fill2D(SVar, 'S1')\n",
    "    SMon.Add(SVar)\n",
    "    \n",
    "with tb.open_file(output, \"w\") as h5out:\n",
    "    writer = hist_writer_var(h5out)    \n",
    "    for param_name, bins in SMon.bins.items():    \n",
    "        writer('HIST', param_name, SMon.data[param_name], bins, SMon.outRange[param_name], SMon.errors[param_name])"
   ]
  },
  {
   "cell_type": "code",
   "execution_count": 10,
   "metadata": {},
   "outputs": [
    {
     "data": {
      "image/png": "[encoded data removed]",
      "text/plain": [
       "<matplotlib.figure.Figure at 0x117e71550>"
      ]
     },
     "metadata": {},
     "output_type": "display_data"
    }
   ],
   "source": [
    "fig, axes = fig, ax = plt.subplots(2,2, figsize=(16, 12))\n",
    "axes[0][0].hist(SVar['S1_Energy'], S1Bins['S1_Energy'][0])\n",
    "axes[1][0].hist2d(SVar['S1_Energy'], SVar['S1_Width'], [S1Bins['S1_Energy'][0], S1Bins['S1_Width'][0]])\n",
    "\n",
    "\n",
    "with tb.open_file(output, \"r\") as h5out:\n",
    "    axes[0][1].bar(shift_to_bin_centers(h5out.root.HIST.S1_Energy_bins[0]), h5out.root.HIST.S1_Energy[:], width=np.diff(h5out.root.HIST.S1_Energy_bins[0]))\n",
    "    axes[1][1].pcolormesh(h5out.root.HIST.S1_Energy_S1_Width_bins[0], h5out.root.HIST.S1_Energy_S1_Width_bins[1], h5out.root.HIST.S1_Energy_S1_Width[:].T)"
   ]
  },
  {
   "cell_type": "code",
   "execution_count": null,
   "metadata": {
    "collapsed": true
   },
   "outputs": [],
   "source": []
  }
 ],
 "metadata": {
  "kernelspec": {
   "display_name": "Python 3",
   "language": "python",
   "name": "python3"
  },
  "language_info": {
   "codemirror_mode": {
    "name": "ipython",
    "version": 3
   },
   "file_extension": ".py",
   "mimetype": "text/x-python",
   "name": "python",
   "nbconvert_exporter": "python",
   "pygments_lexer": "ipython3",
   "version": "3.6.2"
  }
 },
 "nbformat": 4,
 "nbformat_minor": 2
}
